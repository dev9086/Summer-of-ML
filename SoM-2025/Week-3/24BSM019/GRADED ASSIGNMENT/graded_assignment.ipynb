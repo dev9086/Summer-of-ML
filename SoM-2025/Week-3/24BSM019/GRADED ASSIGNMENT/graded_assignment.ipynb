{
  "nbformat": 4,
  "nbformat_minor": 0,
  "metadata": {
    "colab": {
      "provenance": []
    },
    "kernelspec": {
      "name": "python3",
      "display_name": "Python 3"
    },
    "language_info": {
      "name": "python"
    }
  },
  "cells": [
    {
      "cell_type": "markdown",
      "source": [
        "# SA-2023 WEEK 3 GRADED ASSIGNMENT\n",
        "\n",
        "> Spaceship Titanic\n",
        "\n",
        "Predict which passengers are transported to an alternate dimension\n",
        "\n",
        "![](https://www.gannett-cdn.com/-mm-/682bf77435754aee88576469063388a7d8b07c2a/c=0-150-1280-873/local/-/media/2017/02/01/Reno/RGJ/636215634914521096-image001.jpg?width=660&height=373&fit=crop&format=pjpg&auto=webp)\n"
      ],
      "metadata": {
        "id": "8LmHV7W9GevP"
      }
    },
    {
      "cell_type": "markdown",
      "source": [
        "### <b>Description</b>\n",
        "\n",
        "Welcome to the year 2912, where your data science skills are needed to solve a cosmic mystery. We've received a transmission from four lightyears away and things aren't looking good.\n",
        "\n",
        "The Spaceship Titanic was an interstellar passenger liner launched a month ago. With almost 13,000 passengers on board, the vessel set out on its maiden voyage transporting emigrants from our solar system to three newly habitable exoplanets orbiting nearby stars.\n",
        "\n",
        "While rounding Alpha Centauri en route to its first destination—the torrid 55 Cancri E—the unwary Spaceship Titanic collided with a spacetime anomaly hidden within a dust cloud. Sadly, it met a similar fate as its namesake from 1000 years before. Though the ship stayed intact, almost half of the passengers were transported to an alternate dimension!"
      ],
      "metadata": {
        "id": "oLt5SCtVJpr3"
      }
    },
    {
      "cell_type": "markdown",
      "source": [
        "### <b>Data description</b>\n",
        "\n",
        "- Personal records for about two-thirds (~8700) of the passengers, to be used as training data.\n",
        "- <code>PassengerId</code> - A unique Id for each passenger. Each Id takes the form gggg_pp where gggg indicates a group the passenger is travelling with and pp is their number within the group. People in a group are often family members, but not always.\n",
        "- <code>HomePlanet</code> - The planet the passenger departed from, typically their planet of permanent residence.\n",
        "- <code>CryoSleep</code> - Indicates whether the passenger elected to be put into suspended animation for the duration of the voyage. Passengers in cryosleep are confined to their cabins.\n",
        "- <code>Cabin</code> - The cabin number where the passenger is staying. Takes the form deck/num/side, where side can be either P for Port or S for Starboard.\n",
        "- <code>Destination</code> - The planet the passenger will be debarking to.\n",
        "- <code>Age</code> - The age of the passenger.\n",
        "- <code>VIP</code> - Whether the passenger has paid for special VIP service during the voyage.\n",
        "- <code>RoomService, FoodCourt, ShoppingMall, Spa, VRDeck</code> - Amount the passenger has billed at each of the Spaceship Titanic's many luxury amenities.\n",
        "- <code>Name</code> - The first and last names of the passenger.\n",
        "- <code>Transported</code> - Whether the passenger was transported to another dimension. This is the target, the column you are trying to predict.\n"
      ],
      "metadata": {
        "id": "y9Gca7_uNwH0"
      }
    },
    {
      "cell_type": "markdown",
      "source": [
        "### <b>Algorithm Documentation</b> (Highly recommended!)\n",
        "- <code>Logistic Regression</code> : https://scikit-learn.org/stable/modules/generated/sklearn.linear_model.LogisticRegression.html\n",
        "- <code>SVM</code> : https://scikit-learn.org/stable/modules/svm.html\n",
        "Confusion Matrix : https://scikit-learn.org/stable/modules/generated/sklearn.metrics.confusion_matrix.html\n",
        "- <code>Plot Confusion Matrix</code> : https://scikit-learn.org/stable/modules/generated/sklearn.metrics.plot_confusion_matrix.html\n",
        "- <code>ROC_AUC Score</code> : https://scikit-learn.org/stable/modules/generated/sklearn.metrics.roc_auc_score.html#sklearn.metrics.roc_auc_score\n",
        "- <code>Classification Report</code> : https://scikit-learn.org/stable/modules/generated/sklearn.metrics.classification_report.html\n",
        "- <code>Label Encoder</code> : https://scikit-learn.org/stable/modules/generated/sklearn.preprocessing.LabelEncoder.html\n",
        "- <code>Label Binarizer</code> : https://scikit-learn.org/stable/modules/generated/sklearn.preprocessing.LabelBinarizer.html\n",
        "- <code>Standard Scaler</code> : https://scikit-learn.org/stable/modules/generated/sklearn.preprocessing.StandardScaler.html\n",
        "- <code>Cross Val Score</code> : https://scikit-learn.org/stable/modules/generated/sklearn.model_selection.cross_val_score.html"
      ],
      "metadata": {
        "id": "QFtglLAEN18g"
      }
    },
    {
      "cell_type": "markdown",
      "source": [
        "# <span><h1 style = \"font-family: garamond; font-size: 40px; font-style: normal; letter-spcaing: 3px; background-color: #f6f5f5; color :#fe346e; border-radius: 100px 100px; text-align:center\">Install Required Libraries</h1></span>"
      ],
      "metadata": {
        "id": "v7NbAQfaPzYu"
      }
    },
    {
      "cell_type": "code",
      "source": [
        "## ======== YOUR CODE HERE ======== ##\n",
        "\n",
        "## Import numpy, pandas, matplotlib, seaborn\n",
        "import numpy as np\n",
        "import pandas as pd\n",
        "import matplotlib.pyplot as plt\n",
        "import seaborn as sns\n",
        "\n",
        "## Import Logistic regression and SVC\n",
        "from sklearn.linear_model import LogisticRegression\n",
        "from sklearn.svm import SVC\n",
        "from sklearn import preprocessing\n",
        "\n",
        "## Import Confusion matrix, plot confusion matrix, classification report, accuracy score, auc-roc score and roc curve\n",
        "from sklearn.metrics import confusion_matrix, classification_report, accuracy_score, roc_auc_score, roc_curve\n",
        "## Import Label encoder, label binarizer and Standard Scaler\n",
        "from sklearn.preprocessing import LabelEncoder, StandardScaler\n",
        "\n",
        "## ================================ ##\n",
        "\n",
        "from sklearn.model_selection import train_test_split\n",
        "from sklearn.model_selection import cross_val_score\n",
        "import warnings\n",
        "warnings.filterwarnings(\"ignore\")"
      ],
      "metadata": {
        "id": "xoIlRrQsOGUu"
      },
      "execution_count": 41,
      "outputs": []
    },
    {
      "cell_type": "markdown",
      "source": [
        "#### Read the data"
      ],
      "metadata": {
        "id": "UH9QQTGtQR-O"
      }
    },
    {
      "cell_type": "code",
      "source": [
        "## ======== YOUR CODE HERE ======== ##\n",
        "\n",
        "# Use df as the dataframe name throughout the notebook.\n",
        "\n",
        "df = pd.read_csv('/content/data (2).csv')\n",
        "df.head()\n",
        "\n",
        "## ================================ ##"
      ],
      "metadata": {
        "id": "-zjNPzaNJh0J",
        "colab": {
          "base_uri": "https://localhost:8080/",
          "height": 357
        },
        "outputId": "77ee2e3f-dfd9-413b-cf5c-27cbbf033aea"
      },
      "execution_count": 42,
      "outputs": [
        {
          "output_type": "execute_result",
          "data": {
            "text/plain": [
              "  PassengerId HomePlanet  CryoSleep  Cabin Destination  Age    VIP  \\\n",
              "0     0001_01     Europa      False  B/0/P   Andromeda   39  False   \n",
              "1     0002_01      Earth      False  F/0/S   Andromeda   24  False   \n",
              "2     0003_01     Europa      False  A/0/S   Andromeda   58   True   \n",
              "3     0003_02     Europa      False  A/0/S   Andromeda   33  False   \n",
              "4     0004_01      Earth      False  F/1/S   Andromeda   16  False   \n",
              "\n",
              "   RoomService  FoodCourt  ShoppingMall   Spa  VRDeck               Name  \\\n",
              "0            0          0             0     0       0    Maham Ofracculy   \n",
              "1          109          9            25   549      44       Juanna Vines   \n",
              "2           43       3576             0  6715      49      Altark Susent   \n",
              "3            0       1283           371  3329     193       Solam Susent   \n",
              "4          303         70           151   565       2  Willy Santantines   \n",
              "\n",
              "   Transported  \n",
              "0        False  \n",
              "1         True  \n",
              "2        False  \n",
              "3        False  \n",
              "4         True  "
            ],
            "text/html": [
              "\n",
              "  <div id=\"df-c1672c4f-0319-4ec9-9413-412626616428\">\n",
              "    <div class=\"colab-df-container\">\n",
              "      <div>\n",
              "<style scoped>\n",
              "    .dataframe tbody tr th:only-of-type {\n",
              "        vertical-align: middle;\n",
              "    }\n",
              "\n",
              "    .dataframe tbody tr th {\n",
              "        vertical-align: top;\n",
              "    }\n",
              "\n",
              "    .dataframe thead th {\n",
              "        text-align: right;\n",
              "    }\n",
              "</style>\n",
              "<table border=\"1\" class=\"dataframe\">\n",
              "  <thead>\n",
              "    <tr style=\"text-align: right;\">\n",
              "      <th></th>\n",
              "      <th>PassengerId</th>\n",
              "      <th>HomePlanet</th>\n",
              "      <th>CryoSleep</th>\n",
              "      <th>Cabin</th>\n",
              "      <th>Destination</th>\n",
              "      <th>Age</th>\n",
              "      <th>VIP</th>\n",
              "      <th>RoomService</th>\n",
              "      <th>FoodCourt</th>\n",
              "      <th>ShoppingMall</th>\n",
              "      <th>Spa</th>\n",
              "      <th>VRDeck</th>\n",
              "      <th>Name</th>\n",
              "      <th>Transported</th>\n",
              "    </tr>\n",
              "  </thead>\n",
              "  <tbody>\n",
              "    <tr>\n",
              "      <th>0</th>\n",
              "      <td>0001_01</td>\n",
              "      <td>Europa</td>\n",
              "      <td>False</td>\n",
              "      <td>B/0/P</td>\n",
              "      <td>Andromeda</td>\n",
              "      <td>39</td>\n",
              "      <td>False</td>\n",
              "      <td>0</td>\n",
              "      <td>0</td>\n",
              "      <td>0</td>\n",
              "      <td>0</td>\n",
              "      <td>0</td>\n",
              "      <td>Maham Ofracculy</td>\n",
              "      <td>False</td>\n",
              "    </tr>\n",
              "    <tr>\n",
              "      <th>1</th>\n",
              "      <td>0002_01</td>\n",
              "      <td>Earth</td>\n",
              "      <td>False</td>\n",
              "      <td>F/0/S</td>\n",
              "      <td>Andromeda</td>\n",
              "      <td>24</td>\n",
              "      <td>False</td>\n",
              "      <td>109</td>\n",
              "      <td>9</td>\n",
              "      <td>25</td>\n",
              "      <td>549</td>\n",
              "      <td>44</td>\n",
              "      <td>Juanna Vines</td>\n",
              "      <td>True</td>\n",
              "    </tr>\n",
              "    <tr>\n",
              "      <th>2</th>\n",
              "      <td>0003_01</td>\n",
              "      <td>Europa</td>\n",
              "      <td>False</td>\n",
              "      <td>A/0/S</td>\n",
              "      <td>Andromeda</td>\n",
              "      <td>58</td>\n",
              "      <td>True</td>\n",
              "      <td>43</td>\n",
              "      <td>3576</td>\n",
              "      <td>0</td>\n",
              "      <td>6715</td>\n",
              "      <td>49</td>\n",
              "      <td>Altark Susent</td>\n",
              "      <td>False</td>\n",
              "    </tr>\n",
              "    <tr>\n",
              "      <th>3</th>\n",
              "      <td>0003_02</td>\n",
              "      <td>Europa</td>\n",
              "      <td>False</td>\n",
              "      <td>A/0/S</td>\n",
              "      <td>Andromeda</td>\n",
              "      <td>33</td>\n",
              "      <td>False</td>\n",
              "      <td>0</td>\n",
              "      <td>1283</td>\n",
              "      <td>371</td>\n",
              "      <td>3329</td>\n",
              "      <td>193</td>\n",
              "      <td>Solam Susent</td>\n",
              "      <td>False</td>\n",
              "    </tr>\n",
              "    <tr>\n",
              "      <th>4</th>\n",
              "      <td>0004_01</td>\n",
              "      <td>Earth</td>\n",
              "      <td>False</td>\n",
              "      <td>F/1/S</td>\n",
              "      <td>Andromeda</td>\n",
              "      <td>16</td>\n",
              "      <td>False</td>\n",
              "      <td>303</td>\n",
              "      <td>70</td>\n",
              "      <td>151</td>\n",
              "      <td>565</td>\n",
              "      <td>2</td>\n",
              "      <td>Willy Santantines</td>\n",
              "      <td>True</td>\n",
              "    </tr>\n",
              "  </tbody>\n",
              "</table>\n",
              "</div>\n",
              "      <button class=\"colab-df-convert\" onclick=\"convertToInteractive('df-c1672c4f-0319-4ec9-9413-412626616428')\"\n",
              "              title=\"Convert this dataframe to an interactive table.\"\n",
              "              style=\"display:none;\">\n",
              "        \n",
              "  <svg xmlns=\"http://www.w3.org/2000/svg\" height=\"24px\"viewBox=\"0 0 24 24\"\n",
              "       width=\"24px\">\n",
              "    <path d=\"M0 0h24v24H0V0z\" fill=\"none\"/>\n",
              "    <path d=\"M18.56 5.44l.94 2.06.94-2.06 2.06-.94-2.06-.94-.94-2.06-.94 2.06-2.06.94zm-11 1L8.5 8.5l.94-2.06 2.06-.94-2.06-.94L8.5 2.5l-.94 2.06-2.06.94zm10 10l.94 2.06.94-2.06 2.06-.94-2.06-.94-.94-2.06-.94 2.06-2.06.94z\"/><path d=\"M17.41 7.96l-1.37-1.37c-.4-.4-.92-.59-1.43-.59-.52 0-1.04.2-1.43.59L10.3 9.45l-7.72 7.72c-.78.78-.78 2.05 0 2.83L4 21.41c.39.39.9.59 1.41.59.51 0 1.02-.2 1.41-.59l7.78-7.78 2.81-2.81c.8-.78.8-2.07 0-2.86zM5.41 20L4 18.59l7.72-7.72 1.47 1.35L5.41 20z\"/>\n",
              "  </svg>\n",
              "      </button>\n",
              "      \n",
              "  <style>\n",
              "    .colab-df-container {\n",
              "      display:flex;\n",
              "      flex-wrap:wrap;\n",
              "      gap: 12px;\n",
              "    }\n",
              "\n",
              "    .colab-df-convert {\n",
              "      background-color: #E8F0FE;\n",
              "      border: none;\n",
              "      border-radius: 50%;\n",
              "      cursor: pointer;\n",
              "      display: none;\n",
              "      fill: #1967D2;\n",
              "      height: 32px;\n",
              "      padding: 0 0 0 0;\n",
              "      width: 32px;\n",
              "    }\n",
              "\n",
              "    .colab-df-convert:hover {\n",
              "      background-color: #E2EBFA;\n",
              "      box-shadow: 0px 1px 2px rgba(60, 64, 67, 0.3), 0px 1px 3px 1px rgba(60, 64, 67, 0.15);\n",
              "      fill: #174EA6;\n",
              "    }\n",
              "\n",
              "    [theme=dark] .colab-df-convert {\n",
              "      background-color: #3B4455;\n",
              "      fill: #D2E3FC;\n",
              "    }\n",
              "\n",
              "    [theme=dark] .colab-df-convert:hover {\n",
              "      background-color: #434B5C;\n",
              "      box-shadow: 0px 1px 3px 1px rgba(0, 0, 0, 0.15);\n",
              "      filter: drop-shadow(0px 1px 2px rgba(0, 0, 0, 0.3));\n",
              "      fill: #FFFFFF;\n",
              "    }\n",
              "  </style>\n",
              "\n",
              "      <script>\n",
              "        const buttonEl =\n",
              "          document.querySelector('#df-c1672c4f-0319-4ec9-9413-412626616428 button.colab-df-convert');\n",
              "        buttonEl.style.display =\n",
              "          google.colab.kernel.accessAllowed ? 'block' : 'none';\n",
              "\n",
              "        async function convertToInteractive(key) {\n",
              "          const element = document.querySelector('#df-c1672c4f-0319-4ec9-9413-412626616428');\n",
              "          const dataTable =\n",
              "            await google.colab.kernel.invokeFunction('convertToInteractive',\n",
              "                                                     [key], {});\n",
              "          if (!dataTable) return;\n",
              "\n",
              "          const docLinkHtml = 'Like what you see? Visit the ' +\n",
              "            '<a target=\"_blank\" href=https://colab.research.google.com/notebooks/data_table.ipynb>data table notebook</a>'\n",
              "            + ' to learn more about interactive tables.';\n",
              "          element.innerHTML = '';\n",
              "          dataTable['output_type'] = 'display_data';\n",
              "          await google.colab.output.renderOutput(dataTable, element);\n",
              "          const docLink = document.createElement('div');\n",
              "          docLink.innerHTML = docLinkHtml;\n",
              "          element.appendChild(docLink);\n",
              "        }\n",
              "      </script>\n",
              "    </div>\n",
              "  </div>\n",
              "  "
            ]
          },
          "metadata": {},
          "execution_count": 42
        }
      ]
    },
    {
      "cell_type": "code",
      "source": [
        "from google.colab import drive\n",
        "drive.mount('/content/drive')"
      ],
      "metadata": {
        "colab": {
          "base_uri": "https://localhost:8080/"
        },
        "id": "eOeLewrTjfD-",
        "outputId": "b9dadf91-3260-4640-8057-01dc14fc9a82"
      },
      "execution_count": 43,
      "outputs": [
        {
          "output_type": "stream",
          "name": "stdout",
          "text": [
            "Drive already mounted at /content/drive; to attempt to forcibly remount, call drive.mount(\"/content/drive\", force_remount=True).\n"
          ]
        }
      ]
    },
    {
      "cell_type": "markdown",
      "source": [
        "#### Check the shape of data. It should be  (8693, 14)"
      ],
      "metadata": {
        "id": "TctF3H_SUePG"
      }
    },
    {
      "cell_type": "code",
      "source": [
        "## ======== YOUR CODE HERE ======== ##\n",
        "df.shape\n",
        "\n",
        "\n",
        "## ================================ ##"
      ],
      "metadata": {
        "id": "T5wuaGN7LY7M",
        "colab": {
          "base_uri": "https://localhost:8080/"
        },
        "outputId": "1e227832-acc2-4ad0-dfbe-1df1f2e38dcb"
      },
      "execution_count": 44,
      "outputs": [
        {
          "output_type": "execute_result",
          "data": {
            "text/plain": [
              "(8693, 14)"
            ]
          },
          "metadata": {},
          "execution_count": 44
        }
      ]
    },
    {
      "cell_type": "markdown",
      "source": [
        "#### Apply describe on dataframe"
      ],
      "metadata": {
        "id": "qtkIiZmwUpDM"
      }
    },
    {
      "cell_type": "code",
      "source": [
        "## ======== YOUR CODE HERE ======== #\n",
        "df.describe()\n",
        "\n",
        "## ================================ ##"
      ],
      "metadata": {
        "id": "oa9X6NTxQlzk",
        "colab": {
          "base_uri": "https://localhost:8080/",
          "height": 300
        },
        "outputId": "55480a2b-493f-4c6e-db47-69b618527703"
      },
      "execution_count": 45,
      "outputs": [
        {
          "output_type": "execute_result",
          "data": {
            "text/plain": [
              "               Age   RoomService     FoodCourt  ShoppingMall           Spa  \\\n",
              "count  8693.000000   8693.000000   8693.000000   8693.000000   8693.000000   \n",
              "mean     28.728517    220.009318    448.434027    169.572300    304.588865   \n",
              "std      14.355438    660.519050   1595.790627    598.007164   1125.562559   \n",
              "min       0.000000      0.000000      0.000000      0.000000      0.000000   \n",
              "25%      20.000000      0.000000      0.000000      0.000000      0.000000   \n",
              "50%      27.000000      0.000000      0.000000      0.000000      0.000000   \n",
              "75%      37.000000     41.000000     61.000000     22.000000     53.000000   \n",
              "max      79.000000  14327.000000  29813.000000  23492.000000  22408.000000   \n",
              "\n",
              "             VRDeck  \n",
              "count   8693.000000  \n",
              "mean     298.261820  \n",
              "std     1134.126417  \n",
              "min        0.000000  \n",
              "25%        0.000000  \n",
              "50%        0.000000  \n",
              "75%       40.000000  \n",
              "max    24133.000000  "
            ],
            "text/html": [
              "\n",
              "  <div id=\"df-7c23cd23-e69b-4436-b6e5-26e0bddde80a\">\n",
              "    <div class=\"colab-df-container\">\n",
              "      <div>\n",
              "<style scoped>\n",
              "    .dataframe tbody tr th:only-of-type {\n",
              "        vertical-align: middle;\n",
              "    }\n",
              "\n",
              "    .dataframe tbody tr th {\n",
              "        vertical-align: top;\n",
              "    }\n",
              "\n",
              "    .dataframe thead th {\n",
              "        text-align: right;\n",
              "    }\n",
              "</style>\n",
              "<table border=\"1\" class=\"dataframe\">\n",
              "  <thead>\n",
              "    <tr style=\"text-align: right;\">\n",
              "      <th></th>\n",
              "      <th>Age</th>\n",
              "      <th>RoomService</th>\n",
              "      <th>FoodCourt</th>\n",
              "      <th>ShoppingMall</th>\n",
              "      <th>Spa</th>\n",
              "      <th>VRDeck</th>\n",
              "    </tr>\n",
              "  </thead>\n",
              "  <tbody>\n",
              "    <tr>\n",
              "      <th>count</th>\n",
              "      <td>8693.000000</td>\n",
              "      <td>8693.000000</td>\n",
              "      <td>8693.000000</td>\n",
              "      <td>8693.000000</td>\n",
              "      <td>8693.000000</td>\n",
              "      <td>8693.000000</td>\n",
              "    </tr>\n",
              "    <tr>\n",
              "      <th>mean</th>\n",
              "      <td>28.728517</td>\n",
              "      <td>220.009318</td>\n",
              "      <td>448.434027</td>\n",
              "      <td>169.572300</td>\n",
              "      <td>304.588865</td>\n",
              "      <td>298.261820</td>\n",
              "    </tr>\n",
              "    <tr>\n",
              "      <th>std</th>\n",
              "      <td>14.355438</td>\n",
              "      <td>660.519050</td>\n",
              "      <td>1595.790627</td>\n",
              "      <td>598.007164</td>\n",
              "      <td>1125.562559</td>\n",
              "      <td>1134.126417</td>\n",
              "    </tr>\n",
              "    <tr>\n",
              "      <th>min</th>\n",
              "      <td>0.000000</td>\n",
              "      <td>0.000000</td>\n",
              "      <td>0.000000</td>\n",
              "      <td>0.000000</td>\n",
              "      <td>0.000000</td>\n",
              "      <td>0.000000</td>\n",
              "    </tr>\n",
              "    <tr>\n",
              "      <th>25%</th>\n",
              "      <td>20.000000</td>\n",
              "      <td>0.000000</td>\n",
              "      <td>0.000000</td>\n",
              "      <td>0.000000</td>\n",
              "      <td>0.000000</td>\n",
              "      <td>0.000000</td>\n",
              "    </tr>\n",
              "    <tr>\n",
              "      <th>50%</th>\n",
              "      <td>27.000000</td>\n",
              "      <td>0.000000</td>\n",
              "      <td>0.000000</td>\n",
              "      <td>0.000000</td>\n",
              "      <td>0.000000</td>\n",
              "      <td>0.000000</td>\n",
              "    </tr>\n",
              "    <tr>\n",
              "      <th>75%</th>\n",
              "      <td>37.000000</td>\n",
              "      <td>41.000000</td>\n",
              "      <td>61.000000</td>\n",
              "      <td>22.000000</td>\n",
              "      <td>53.000000</td>\n",
              "      <td>40.000000</td>\n",
              "    </tr>\n",
              "    <tr>\n",
              "      <th>max</th>\n",
              "      <td>79.000000</td>\n",
              "      <td>14327.000000</td>\n",
              "      <td>29813.000000</td>\n",
              "      <td>23492.000000</td>\n",
              "      <td>22408.000000</td>\n",
              "      <td>24133.000000</td>\n",
              "    </tr>\n",
              "  </tbody>\n",
              "</table>\n",
              "</div>\n",
              "      <button class=\"colab-df-convert\" onclick=\"convertToInteractive('df-7c23cd23-e69b-4436-b6e5-26e0bddde80a')\"\n",
              "              title=\"Convert this dataframe to an interactive table.\"\n",
              "              style=\"display:none;\">\n",
              "        \n",
              "  <svg xmlns=\"http://www.w3.org/2000/svg\" height=\"24px\"viewBox=\"0 0 24 24\"\n",
              "       width=\"24px\">\n",
              "    <path d=\"M0 0h24v24H0V0z\" fill=\"none\"/>\n",
              "    <path d=\"M18.56 5.44l.94 2.06.94-2.06 2.06-.94-2.06-.94-.94-2.06-.94 2.06-2.06.94zm-11 1L8.5 8.5l.94-2.06 2.06-.94-2.06-.94L8.5 2.5l-.94 2.06-2.06.94zm10 10l.94 2.06.94-2.06 2.06-.94-2.06-.94-.94-2.06-.94 2.06-2.06.94z\"/><path d=\"M17.41 7.96l-1.37-1.37c-.4-.4-.92-.59-1.43-.59-.52 0-1.04.2-1.43.59L10.3 9.45l-7.72 7.72c-.78.78-.78 2.05 0 2.83L4 21.41c.39.39.9.59 1.41.59.51 0 1.02-.2 1.41-.59l7.78-7.78 2.81-2.81c.8-.78.8-2.07 0-2.86zM5.41 20L4 18.59l7.72-7.72 1.47 1.35L5.41 20z\"/>\n",
              "  </svg>\n",
              "      </button>\n",
              "      \n",
              "  <style>\n",
              "    .colab-df-container {\n",
              "      display:flex;\n",
              "      flex-wrap:wrap;\n",
              "      gap: 12px;\n",
              "    }\n",
              "\n",
              "    .colab-df-convert {\n",
              "      background-color: #E8F0FE;\n",
              "      border: none;\n",
              "      border-radius: 50%;\n",
              "      cursor: pointer;\n",
              "      display: none;\n",
              "      fill: #1967D2;\n",
              "      height: 32px;\n",
              "      padding: 0 0 0 0;\n",
              "      width: 32px;\n",
              "    }\n",
              "\n",
              "    .colab-df-convert:hover {\n",
              "      background-color: #E2EBFA;\n",
              "      box-shadow: 0px 1px 2px rgba(60, 64, 67, 0.3), 0px 1px 3px 1px rgba(60, 64, 67, 0.15);\n",
              "      fill: #174EA6;\n",
              "    }\n",
              "\n",
              "    [theme=dark] .colab-df-convert {\n",
              "      background-color: #3B4455;\n",
              "      fill: #D2E3FC;\n",
              "    }\n",
              "\n",
              "    [theme=dark] .colab-df-convert:hover {\n",
              "      background-color: #434B5C;\n",
              "      box-shadow: 0px 1px 3px 1px rgba(0, 0, 0, 0.15);\n",
              "      filter: drop-shadow(0px 1px 2px rgba(0, 0, 0, 0.3));\n",
              "      fill: #FFFFFF;\n",
              "    }\n",
              "  </style>\n",
              "\n",
              "      <script>\n",
              "        const buttonEl =\n",
              "          document.querySelector('#df-7c23cd23-e69b-4436-b6e5-26e0bddde80a button.colab-df-convert');\n",
              "        buttonEl.style.display =\n",
              "          google.colab.kernel.accessAllowed ? 'block' : 'none';\n",
              "\n",
              "        async function convertToInteractive(key) {\n",
              "          const element = document.querySelector('#df-7c23cd23-e69b-4436-b6e5-26e0bddde80a');\n",
              "          const dataTable =\n",
              "            await google.colab.kernel.invokeFunction('convertToInteractive',\n",
              "                                                     [key], {});\n",
              "          if (!dataTable) return;\n",
              "\n",
              "          const docLinkHtml = 'Like what you see? Visit the ' +\n",
              "            '<a target=\"_blank\" href=https://colab.research.google.com/notebooks/data_table.ipynb>data table notebook</a>'\n",
              "            + ' to learn more about interactive tables.';\n",
              "          element.innerHTML = '';\n",
              "          dataTable['output_type'] = 'display_data';\n",
              "          await google.colab.output.renderOutput(dataTable, element);\n",
              "          const docLink = document.createElement('div');\n",
              "          docLink.innerHTML = docLinkHtml;\n",
              "          element.appendChild(docLink);\n",
              "        }\n",
              "      </script>\n",
              "    </div>\n",
              "  </div>\n",
              "  "
            ]
          },
          "metadata": {},
          "execution_count": 45
        }
      ]
    },
    {
      "cell_type": "markdown",
      "source": [
        "#### Check if there any null value in the dataset."
      ],
      "metadata": {
        "id": "jtuqbR3LUsws"
      }
    },
    {
      "cell_type": "code",
      "source": [
        "df.isna().sum()"
      ],
      "metadata": {
        "id": "NH6Ky_nqQxtE",
        "colab": {
          "base_uri": "https://localhost:8080/"
        },
        "outputId": "e56a34a6-31c7-4583-8ee1-f710a66dc442"
      },
      "execution_count": 46,
      "outputs": [
        {
          "output_type": "execute_result",
          "data": {
            "text/plain": [
              "PassengerId     0\n",
              "HomePlanet      0\n",
              "CryoSleep       0\n",
              "Cabin           0\n",
              "Destination     0\n",
              "Age             0\n",
              "VIP             0\n",
              "RoomService     0\n",
              "FoodCourt       0\n",
              "ShoppingMall    0\n",
              "Spa             0\n",
              "VRDeck          0\n",
              "Name            0\n",
              "Transported     0\n",
              "dtype: int64"
            ]
          },
          "metadata": {},
          "execution_count": 46
        }
      ]
    },
    {
      "cell_type": "markdown",
      "source": [
        "#### Number continuous and categorical features"
      ],
      "metadata": {
        "id": "XA8O-zuLU00Q"
      }
    },
    {
      "cell_type": "code",
      "source": [
        "#################################################################\n",
        "\n",
        "# Don't make mistake here. Ask in the discussion section if you are stuck. Help will be provided....\n",
        "\n",
        "#################################################################\n",
        "\n",
        "## ======== YOUR CODE HERE ======== ##\n",
        "\n",
        "continous_features = ['Age','RoomService','FoodCourt','ShoppingMall','Spa','VRDeck'] # Fill the continuous fearures inside the array\n",
        "categorical_features = ['PassengerId','Cabin','HomePlanet','CryoSleep','Destination','Transported','VIP','Name'] # Fill the categorical features inside the array\n",
        "\n",
        "## ======== YOUR CODE HERE ======== ##\n",
        "\n",
        "print(\"Continous Features: \", continous_features)\n",
        "print(\"No. of Continuous features: \", len(continous_features))\n",
        "\n",
        "print(\"Categorical Features: \", categorical_features)\n",
        "print(\"No. of Categorical Features: \", len(categorical_features))\n"
      ],
      "metadata": {
        "id": "bnEHaL-cUUQ4",
        "colab": {
          "base_uri": "https://localhost:8080/"
        },
        "outputId": "7cdea510-b01d-415a-b6e5-c1288e8f1557"
      },
      "execution_count": 47,
      "outputs": [
        {
          "output_type": "stream",
          "name": "stdout",
          "text": [
            "Continous Features:  ['Age', 'RoomService', 'FoodCourt', 'ShoppingMall', 'Spa', 'VRDeck']\n",
            "No. of Continuous features:  6\n",
            "Categorical Features:  ['PassengerId', 'Cabin', 'HomePlanet', 'CryoSleep', 'Destination', 'Transported', 'VIP', 'Name']\n",
            "No. of Categorical Features:  8\n"
          ]
        }
      ]
    },
    {
      "cell_type": "markdown",
      "source": [
        "#### Unique values"
      ],
      "metadata": {
        "id": "nvbf6praYa0l"
      }
    },
    {
      "cell_type": "code",
      "source": [
        "s = df['HomePlanet'].unique()\n",
        "p = df['VIP'].unique()\n",
        "d = df['CryoSleep'].unique()\n",
        "p = df['Transported'].unique()\n",
        "o = df['Destination'].unique()\n",
        "print(\"HomePlanet : \",len(s), s)\n",
        "print(\"VIP        : \",len(p), p)\n",
        "print(\"CryoSleep  : \",len(d), d)\n",
        "print(\"Transported: \",len(p), p)\n",
        "print(\"Destination: \",len(o), o)"
      ],
      "metadata": {
        "id": "YHRaNXWuZecT",
        "colab": {
          "base_uri": "https://localhost:8080/"
        },
        "outputId": "e72b9364-bb53-4100-a037-654ef096fdcf"
      },
      "execution_count": 48,
      "outputs": [
        {
          "output_type": "stream",
          "name": "stdout",
          "text": [
            "HomePlanet :  3 ['Europa' 'Earth' 'Mars']\n",
            "VIP        :  2 [False  True]\n",
            "CryoSleep  :  2 [False  True]\n",
            "Transported:  2 [False  True]\n",
            "Destination:  3 ['Andromeda' 'Cygnus' 'Virgo']\n"
          ]
        }
      ]
    },
    {
      "cell_type": "markdown",
      "source": [
        "<code>Note: If we apply one-hot-encoding to a categorical feature with many unique values, </code>\n",
        "- Number of columns will be high\n",
        "- Time required for training a model will be high\n",
        "- We may not get usefull insights about the data\n",
        "\n",
        "<code>This is the reason we are droping the features with more unique values.</code>\n"
      ],
      "metadata": {
        "id": "0oojkTXNbSsU"
      }
    },
    {
      "cell_type": "markdown",
      "source": [
        "#### Drop the features"
      ],
      "metadata": {
        "id": "cDThwpZKdjKT"
      }
    },
    {
      "cell_type": "code",
      "source": [
        "# Drop those categorical features which have more than 25 unique values\n",
        "\n",
        "## ======== YOUR CODE HERE ======== ##\n",
        "dfcon=df[['Age','RoomService','FoodCourt','ShoppingMall','Spa','VRDeck']]\n",
        "dfcat=df[['PassengerId','Cabin','HomePlanet','CryoSleep','Destination','Transported','VIP','Name']]\n",
        "df2=dfcat.columns[dfcat.nunique()>25]\n",
        "df3=dfcat.drop(df2,axis=1)\n",
        "dfdropped=pd.concat([dfcon,df3], axis=1)\n",
        "\n",
        "dfdropped.shape\n",
        "# Print the shape after droping the features\n",
        "# Check: Shape --> (8693, 11)\n",
        "\n",
        "## ======== YOUR CODE HERE ======== ##\n",
        "\n",
        "\n",
        "\n",
        "## ======== YOUR CODE HERE ======== ##"
      ],
      "metadata": {
        "id": "s1wMTAeJdqQb",
        "colab": {
          "base_uri": "https://localhost:8080/"
        },
        "outputId": "bba01624-944e-4097-a9b2-ada5c4d25926"
      },
      "execution_count": 49,
      "outputs": [
        {
          "output_type": "execute_result",
          "data": {
            "text/plain": [
              "(8693, 11)"
            ]
          },
          "metadata": {},
          "execution_count": 49
        }
      ]
    },
    {
      "cell_type": "markdown",
      "source": [
        "#### One Hot Encoding"
      ],
      "metadata": {
        "id": "k6giFKFeevim"
      }
    },
    {
      "cell_type": "code",
      "source": [
        "# Hint: search for get_dummies\n",
        "\n",
        "## ======== YOUR CODE HERE ======== ##\n",
        "from sklearn.preprocessing import OneHotEncoder\n",
        "dummies =pd.get_dummies(dfdropped.HomePlanet)\n",
        "dummies2 =pd.get_dummies(dfdropped.Destination)\n",
        "dfdropped[[\"VIP\", \"Transported\",\"CryoSleep\"]] *= 1\n",
        "df12=pd.concat([dfdropped,dummies,dummies2],axis='columns')\n",
        "df1=df12.drop(['HomePlanet','Destination'],axis='columns')\n",
        "df1.shape\n",
        "## ======== YOUR CODE HERE ======== ##\n",
        "\n",
        "# Check: Shape --> (8693, 15)"
      ],
      "metadata": {
        "id": "3BVX8hQhW8JT",
        "colab": {
          "base_uri": "https://localhost:8080/"
        },
        "outputId": "ff723754-1570-4f3d-e0e9-dc5a4fda17c2"
      },
      "execution_count": 50,
      "outputs": [
        {
          "output_type": "execute_result",
          "data": {
            "text/plain": [
              "(8693, 15)"
            ]
          },
          "metadata": {},
          "execution_count": 50
        }
      ]
    },
    {
      "cell_type": "markdown",
      "source": [
        "#### Changing bool columns to 0,1"
      ],
      "metadata": {
        "id": "9_HhXZhJjJrC"
      }
    },
    {
      "cell_type": "code",
      "source": [
        "## ======== Run this code(Don't change any code)======== ##\n",
        "\n",
        "df1['CryoSleep'] = df1['CryoSleep'].astype(int)\n",
        "df1['VIP'] = df1['VIP'].astype(int)\n",
        "df1['Transported'] = df1['Transported'].astype(int)\n",
        "\n",
        "df1.shape\n",
        "\n",
        "## ======== Run this code(Don't change any code)======== ##\n"
      ],
      "metadata": {
        "id": "6BGjAjk5emqP",
        "colab": {
          "base_uri": "https://localhost:8080/"
        },
        "outputId": "c20e037e-ef06-4d57-8699-9f1ff9017850"
      },
      "execution_count": 51,
      "outputs": [
        {
          "output_type": "execute_result",
          "data": {
            "text/plain": [
              "(8693, 15)"
            ]
          },
          "metadata": {},
          "execution_count": 51
        }
      ]
    },
    {
      "cell_type": "markdown",
      "source": [
        "#### Split the data into train and test"
      ],
      "metadata": {
        "id": "vz-ytNV0jRmi"
      }
    },
    {
      "cell_type": "code",
      "source": [
        "## ======== YOUR CODE HERE ======== ##\n",
        "\n",
        "## Test size should be 15% of the full dataset and use random state = 2022\n",
        "dfX=df1\n",
        "dfy=dfX.Transported\n",
        "dfX=dfX.drop('Transported',axis='columns')\n",
        "X = dfX\n",
        "\n",
        "y = dfy\n",
        "\n",
        "X_train, X_test, y_train, y_test = train_test_split(X, y, test_size=0.15,random_state=2022)\n",
        "## ================================ ##"
      ],
      "metadata": {
        "id": "zMuBNwpWhZRy"
      },
      "execution_count": 52,
      "outputs": []
    },
    {
      "cell_type": "code",
      "source": [
        "## ======== YOUR CODE HERE ======== ##\n",
        "\n",
        "   ## Let us print the shapes:\n",
        "\n",
        "print(\"X_train:\", X_train.shape) # X_train\n",
        "print(\"X_test:\",X_test.shape) # X_test\n",
        "print(\"y_train:\",y_train.shape) # y_train\n",
        "print(\"y_test:\",y_test.shape) # y_test\n",
        "\n",
        "## ================================ ##"
      ],
      "metadata": {
        "id": "VAD29hRbjgYY",
        "colab": {
          "base_uri": "https://localhost:8080/"
        },
        "outputId": "d9a3ef69-8bc2-4521-d569-0b238caa245d"
      },
      "execution_count": 53,
      "outputs": [
        {
          "output_type": "stream",
          "name": "stdout",
          "text": [
            "X_train: (7389, 14)\n",
            "X_test: (1304, 14)\n",
            "y_train: (7389,)\n",
            "y_test: (1304,)\n"
          ]
        }
      ]
    },
    {
      "cell_type": "markdown",
      "source": [
        "#### Scale the data using Standard Scaler"
      ],
      "metadata": {
        "id": "bIjWDrnEjpia"
      }
    },
    {
      "cell_type": "code",
      "source": [
        "## Use Standard Scaler to scale the train and test data\n",
        "\n",
        "## ======== YOUR CODE HERE ======== ##\n",
        "from sklearn.preprocessing import StandardScaler\n",
        "scaler = StandardScaler()\n",
        "X_train_scale = scaler.fit_transform(X_train)\n",
        "X_test_scale = scaler.fit_transform(X_test)\n",
        "# scaled_y_train = scaler.fit_transform(y_train)\n",
        "# scaled_y_test = scaler.fit_transform(y_test)\n",
        "\n",
        "\n",
        "## ================================ ##"
      ],
      "metadata": {
        "id": "naPlXlFhjkkI"
      },
      "execution_count": 54,
      "outputs": []
    },
    {
      "cell_type": "markdown",
      "source": [
        "## <b>Logistic Regression</b>\n",
        "#### Use default parameters unless mentioned"
      ],
      "metadata": {
        "id": "5LQ24wfSjv0c"
      }
    },
    {
      "cell_type": "markdown",
      "source": [],
      "metadata": {
        "id": "weS0MyQRxNYT"
      }
    },
    {
      "cell_type": "code",
      "source": [
        "## Use Random state = 2021 and fit the LR model\n",
        "\n",
        "## ======== YOUR CODE HERE ======== ##\n",
        "\n",
        "LR_model = LogisticRegression(random_state=2021).fit(X_train_scale, y_train)\n",
        "y_pred=LR_model.predict(X_test_scale)\n",
        "y_pred_prob=LR_model.predict_proba(X_test_scale)\n",
        "LR_model.score(X_test_scale,y_test)\n",
        "\n",
        "## ================================ ##"
      ],
      "metadata": {
        "id": "Q_05utrBjsEY",
        "colab": {
          "base_uri": "https://localhost:8080/"
        },
        "outputId": "c9c1f8e2-73c4-4881-961e-1145e9769ff5"
      },
      "execution_count": 55,
      "outputs": [
        {
          "output_type": "execute_result",
          "data": {
            "text/plain": [
              "0.7906441717791411"
            ]
          },
          "metadata": {},
          "execution_count": 55
        }
      ]
    },
    {
      "cell_type": "markdown",
      "source": [
        "#### Plot confusion matrix"
      ],
      "metadata": {
        "id": "tTnclsr6kGzY"
      }
    },
    {
      "cell_type": "code",
      "source": [
        "## ======== YOUR CODE HERE ======== ##\n",
        "import numpy as np\n",
        "from sklearn.metrics import confusion_matrix\n",
        "import seaborn as sns\n",
        "import matplotlib.pyplot as plt\n",
        "cm = confusion_matrix(y_test, y_pred)\n",
        "conm=sns.heatmap(cm,annot=True, fmt=\"g\",xticklabels=['Transported','Not Transported'] ,yticklabels=['Transported','Not Transported'] ,cmap=\"Blues\", cbar=False,)\n",
        "plt.title('Confusion Matrix', fontsize = 20)\n",
        "plt.xlabel('Actual', fontsize = 15)\n",
        "plt.ylabel('Predicted', fontsize = 15)\n",
        "plt.show()\n",
        "## ================================ ##"
      ],
      "metadata": {
        "id": "OK6afSwBj_2S",
        "colab": {
          "base_uri": "https://localhost:8080/",
          "height": 537
        },
        "outputId": "722560c2-4348-462b-c8a0-eb0c6e987b1f"
      },
      "execution_count": 56,
      "outputs": [
        {
          "output_type": "display_data",
          "data": {
            "text/plain": [
              "<Figure size 800x550 with 1 Axes>"
            ],
            "image/png": "[encoded data removed]"
          },
          "metadata": {}
        }
      ]
    },
    {
      "cell_type": "markdown",
      "source": [
        "#### Print classification report"
      ],
      "metadata": {
        "id": "2CdCZHpZkdov"
      }
    },
    {
      "cell_type": "code",
      "source": [
        "## ======== YOUR CODE HERE ======== ##\n",
        "\n",
        "from sklearn.metrics import classification_report\n",
        "print(classification_report(y_test, y_pred))\n",
        "\n",
        "## ================================ ##"
      ],
      "metadata": {
        "id": "pLVPxS33kPlI",
        "colab": {
          "base_uri": "https://localhost:8080/"
        },
        "outputId": "d2d5308f-c71d-476d-97ef-3bc11e485e55"
      },
      "execution_count": 57,
      "outputs": [
        {
          "output_type": "stream",
          "name": "stdout",
          "text": [
            "              precision    recall  f1-score   support\n",
            "\n",
            "           0       0.78      0.80      0.79       637\n",
            "           1       0.80      0.78      0.79       667\n",
            "\n",
            "    accuracy                           0.79      1304\n",
            "   macro avg       0.79      0.79      0.79      1304\n",
            "weighted avg       0.79      0.79      0.79      1304\n",
            "\n"
          ]
        }
      ]
    },
    {
      "cell_type": "markdown",
      "source": [
        "#### Print accuracy score"
      ],
      "metadata": {
        "id": "dsCHjnQxlB6d"
      }
    },
    {
      "cell_type": "code",
      "source": [
        "## ======== YOUR CODE HERE ======== ##\n",
        "\n",
        "from sklearn.metrics import accuracy_score\n",
        "print(\"Accuracy :\",accuracy_score(y_test, y_pred))\n",
        "\n",
        "## ================================ ##"
      ],
      "metadata": {
        "id": "fn-CKB9Gkn9X",
        "colab": {
          "base_uri": "https://localhost:8080/"
        },
        "outputId": "182050e5-94ab-46d5-d3f6-66b30d67c552"
      },
      "execution_count": 58,
      "outputs": [
        {
          "output_type": "stream",
          "name": "stdout",
          "text": [
            "Accuracy : 0.7906441717791411\n"
          ]
        }
      ]
    },
    {
      "cell_type": "markdown",
      "source": [
        "#### Print ROC-AUC score"
      ],
      "metadata": {
        "id": "GQXaQcUMlpuW"
      }
    },
    {
      "cell_type": "code",
      "source": [
        "## ======== YOUR CODE HERE ======== ##\n",
        "\n",
        "## Note: Use predict_proba!!! Read documentation/google it\n",
        "\n",
        "print(\"ROC-AUC Score:\", roc_auc_score(y_test, y_pred_prob[:,1]))\n",
        "\n",
        "## ================================ ##"
      ],
      "metadata": {
        "id": "peowPJH3lPQg",
        "colab": {
          "base_uri": "https://localhost:8080/"
        },
        "outputId": "b14bd607-cce1-4991-d277-d5e357223975"
      },
      "execution_count": 59,
      "outputs": [
        {
          "output_type": "stream",
          "name": "stdout",
          "text": [
            "ROC-AUC Score: 0.8783135904575187\n"
          ]
        }
      ]
    },
    {
      "cell_type": "markdown",
      "source": [
        "#### Plot ROC-AUC Curve"
      ],
      "metadata": {
        "id": "WxxoTYomqceD"
      }
    },
    {
      "cell_type": "code",
      "source": [
        "## ======== YOUR CODE HERE ======== ##\n",
        "\n",
        "\n",
        "## Set appropriate X label, Y label and Title for the graph\n",
        "plt.style.use('seaborn')\n",
        "fpr, tpr, thresholds = roc_curve(y_test, y_pred_prob[:,1])\n",
        "plt.plot(fpr, tpr, label=\"ROC Curve\")\n",
        "plt.plot([0, 1], [0, 1], \"r--\", label=\"Random Guess\")\n",
        "from importlib import reload\n",
        "plt=reload(plt)\n",
        "plt.xlabel('False Positive',fontsize=12)\n",
        "plt.ylabel('True Positive',fontsize=12)\n",
        "plt.title('ROC Curve',fontsize=15)\n",
        "plt.legend()\n",
        "plt.show()\n",
        "\n",
        "\n",
        "## ================================ ##"
      ],
      "metadata": {
        "id": "pu-xnAORqhP1",
        "colab": {
          "base_uri": "https://localhost:8080/",
          "height": 528
        },
        "outputId": "12f89548-1890-4127-abae-588ec3813c85"
      },
      "execution_count": 60,
      "outputs": [
        {
          "output_type": "display_data",
          "data": {
            "text/plain": [
              "<Figure size 800x550 with 1 Axes>"
            ],
            "image/png": "[encoded data removed]"
          },
          "metadata": {}
        }
      ]
    },
    {
      "cell_type": "markdown",
      "source": [
        "#### Cross validation"
      ],
      "metadata": {
        "id": "UvxDjUoNrjYN"
      }
    },
    {
      "cell_type": "code",
      "source": [
        "## ======== YOUR CODE HERE ======== ##\n",
        "\n",
        "## cv=5\n",
        "\n",
        "from sklearn import datasets, linear_model\n",
        "from sklearn.model_selection import cross_val_score\n",
        "print(cross_val_score(LogisticRegression(), X, y, cv=5))\n",
        "\n",
        "## ================================ ##"
      ],
      "metadata": {
        "id": "Jvx57Bx_rjBn",
        "colab": {
          "base_uri": "https://localhost:8080/"
        },
        "outputId": "f1d41eaf-5f26-4622-c4ec-59cd97699b86"
      },
      "execution_count": 61,
      "outputs": [
        {
          "output_type": "stream",
          "name": "stdout",
          "text": [
            "[0.77918344 0.78608396 0.78033353 0.78193326 0.79459148]\n"
          ]
        }
      ]
    },
    {
      "cell_type": "markdown",
      "source": [
        "## <b>SVM</b>\n",
        "#### Use default parameters unless mentioned"
      ],
      "metadata": {
        "id": "7hQ6KaXenOtN"
      }
    },
    {
      "cell_type": "code",
      "source": [
        "## ======== YOUR CODE HERE ======== ##\n",
        "\n",
        "## parameters: random_state = 2022, C=5, gamma='scale', kernel='rbf', probability=True\n",
        "\n",
        "from sklearn import svm\n",
        "svmmodel= svm.SVC(random_state=2021, C=5, gamma='scale', kernel='rbf', probability=True).fit(X_train_scale, y_train)\n",
        "y_pred=svmmodel.predict(X_test_scale)\n",
        "y_pred_prob=svmmodel.predict_proba(X_test_scale)\n",
        "svmmodel.score(X_test_scale,y_test)\n",
        "## ================================ ##"
      ],
      "metadata": {
        "id": "CpY0U9gjmia_",
        "colab": {
          "base_uri": "https://localhost:8080/"
        },
        "outputId": "5c270ca4-1e81-4f8f-c83a-1455c73eb0b7"
      },
      "execution_count": 62,
      "outputs": [
        {
          "output_type": "execute_result",
          "data": {
            "text/plain": [
              "0.8021472392638037"
            ]
          },
          "metadata": {},
          "execution_count": 62
        }
      ]
    },
    {
      "cell_type": "markdown",
      "source": [
        "#### Plot confusion matrix"
      ],
      "metadata": {
        "id": "dnzmj8uaoXdC"
      }
    },
    {
      "cell_type": "code",
      "source": [
        "## ======== YOUR CODE HERE ======== ##\n",
        "\n",
        "## Use display labels as per your choice.\n",
        "\n",
        "cm = confusion_matrix(y_test, y_pred)\n",
        "conm=sns.heatmap(cm,annot=True, fmt=\"g\",xticklabels=['Transported','Not Transported'] ,yticklabels=['Transported','Not Transported'] ,cmap=\"Blues\", cbar=False,)\n",
        "plt.title('Confusion Matrix', fontsize = 20)\n",
        "plt.xlabel('Actual', fontsize = 15)\n",
        "plt.ylabel('Predicted', fontsize = 15)\n",
        "\n",
        "plt.show()\n",
        "\n",
        "\n",
        "## ================================ ##"
      ],
      "metadata": {
        "id": "w_82c2Y0n0ed",
        "colab": {
          "base_uri": "https://localhost:8080/",
          "height": 537
        },
        "outputId": "2696c375-f808-46b0-95c5-2e2fa692f9f5"
      },
      "execution_count": 63,
      "outputs": [
        {
          "output_type": "display_data",
          "data": {
            "text/plain": [
              "<Figure size 800x550 with 1 Axes>"
            ],
            "image/png": "[encoded data removed]"
          },
          "metadata": {}
        }
      ]
    },
    {
      "cell_type": "markdown",
      "source": [
        "#### Print classification report"
      ],
      "metadata": {
        "id": "rXnA65gGoi32"
      }
    },
    {
      "cell_type": "code",
      "source": [
        "## ======== YOUR CODE HERE ======== ##\n",
        "from sklearn.metrics import classification_report\n",
        "print(classification_report(y_test, y_pred))\n",
        "## ================================ ##"
      ],
      "metadata": {
        "id": "Ni3urDs2ofFu",
        "colab": {
          "base_uri": "https://localhost:8080/"
        },
        "outputId": "589c5e12-c986-42e3-aa77-72d9c8537fdd"
      },
      "execution_count": 64,
      "outputs": [
        {
          "output_type": "stream",
          "name": "stdout",
          "text": [
            "              precision    recall  f1-score   support\n",
            "\n",
            "           0       0.80      0.79      0.80       637\n",
            "           1       0.80      0.81      0.81       667\n",
            "\n",
            "    accuracy                           0.80      1304\n",
            "   macro avg       0.80      0.80      0.80      1304\n",
            "weighted avg       0.80      0.80      0.80      1304\n",
            "\n"
          ]
        }
      ]
    },
    {
      "cell_type": "markdown",
      "source": [
        "#### Print accuracy score"
      ],
      "metadata": {
        "id": "TdNZjZ_yosP7"
      }
    },
    {
      "cell_type": "code",
      "source": [
        "## ======== YOUR CODE HERE ======== ##\n",
        "\n",
        "from sklearn.metrics import accuracy_score\n",
        "print(\"Accuracy :\",accuracy_score(y_test, y_pred))\n",
        "\n",
        "## ================================ ##"
      ],
      "metadata": {
        "id": "YycrkEZrolRo",
        "colab": {
          "base_uri": "https://localhost:8080/"
        },
        "outputId": "7f43ff39-7444-47c3-f47c-b631b6219cfe"
      },
      "execution_count": 65,
      "outputs": [
        {
          "output_type": "stream",
          "name": "stdout",
          "text": [
            "Accuracy : 0.8021472392638037\n"
          ]
        }
      ]
    },
    {
      "cell_type": "markdown",
      "source": [
        "#### Print ROC-AUC score"
      ],
      "metadata": {
        "id": "eKN9aDzvpGnB"
      }
    },
    {
      "cell_type": "code",
      "source": [
        "## ======== YOUR CODE HERE ======== ##\n",
        "\n",
        "## Note: Use predict_proba!!! Read documentation/google it\n",
        "\n",
        "print(\"ROC-AUC Score:\", roc_auc_score(y_test, y_pred_prob[:,1]))\n",
        "\n",
        "\n",
        "## ================================ ##"
      ],
      "metadata": {
        "id": "XFvSXf3upFix",
        "colab": {
          "base_uri": "https://localhost:8080/"
        },
        "outputId": "e7cd5259-421e-4118-a6e9-3b52912955c9"
      },
      "execution_count": 66,
      "outputs": [
        {
          "output_type": "stream",
          "name": "stdout",
          "text": [
            "ROC-AUC Score: 0.8460220439230934\n"
          ]
        }
      ]
    },
    {
      "cell_type": "markdown",
      "source": [
        "#### Plot ROC-AUC curve"
      ],
      "metadata": {
        "id": "Zfehp2mOqVQy"
      }
    },
    {
      "cell_type": "code",
      "source": [
        "## ======== YOUR CODE HERE ======== ##\n",
        "\n",
        "## Set appropriate X label, Y label and Title for the graph\n",
        "\n",
        "\n",
        "plt.style.use('seaborn')\n",
        "fpr, tpr, thresholds = roc_curve(y_test, y_pred_prob[:,1])\n",
        "plt.plot(fpr, tpr, label=\"ROC Curve\")\n",
        "plt.plot([0, 1], [0, 1], \"r--\", label=\"Random Guess\")\n",
        "from importlib import reload\n",
        "plt=reload(plt)\n",
        "plt.xlabel('False Positive',fontsize=12)\n",
        "plt.ylabel('True Positive',fontsize=12)\n",
        "plt.title('ROC Curve',fontsize=15)\n",
        "plt.legend()\n",
        "plt.show()\n",
        "\n",
        "## ================================ ##"
      ],
      "metadata": {
        "id": "Onuzz70ypaUg",
        "colab": {
          "base_uri": "https://localhost:8080/",
          "height": 528
        },
        "outputId": "1642563e-9a6d-414c-a416-ea049fad3e25"
      },
      "execution_count": 67,
      "outputs": [
        {
          "output_type": "display_data",
          "data": {
            "text/plain": [
              "<Figure size 800x550 with 1 Axes>"
            ],
            "image/png": "[encoded data removed]"
          },
          "metadata": {}
        }
      ]
    },
    {
      "cell_type": "markdown",
      "source": [
        "#### Cross validation"
      ],
      "metadata": {
        "id": "hA3c9iivrXNy"
      }
    },
    {
      "cell_type": "code",
      "source": [
        "## ======== YOUR CODE HERE ======== ##\n",
        "\n",
        "## cv=5\n",
        "\n",
        "\n",
        "\n",
        "from sklearn import datasets, linear_model\n",
        "from sklearn.model_selection import cross_val_score\n",
        "print(cross_val_score(SVC(), X, y, cv=5))\n",
        "\n",
        "## ================================ ##"
      ],
      "metadata": {
        "id": "4O0OlBkXqYYr",
        "colab": {
          "base_uri": "https://localhost:8080/"
        },
        "outputId": "8c1e29f5-bb87-4700-db2c-bac47daaa49e"
      },
      "execution_count": 70,
      "outputs": [
        {
          "output_type": "stream",
          "name": "stdout",
          "text": [
            "[0.76998275 0.77228292 0.78953422 0.80034522 0.79919448]\n"
          ]
        }
      ]
    },
    {
      "cell_type": "markdown",
      "source": [
        "# Congratulations! Assignment Completed!"
      ],
      "metadata": {
        "id": "HvRyJBGxuKIE"
      }
    }
  ]
}