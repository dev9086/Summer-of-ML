{
 "cells": [
  {
   "cell_type": "code",
   "execution_count": 177,
   "id": "eef6dbe1-2e9f-458a-9c6a-525027021b83",
   "metadata": {},
   "outputs": [],
   "source": [
    "import numpy as np\n",
    "import pandas as pd\n",
    "import matplotlib.pyplot as plt\n",
    "from sklearn.model_selection import train_test_split"
   ]
  },
  {
   "cell_type": "code",
   "execution_count": 178,
   "id": "237c00a9-ed52-4c10-9f97-b287a73d24a5",
   "metadata": {},
   "outputs": [
    {
     "name": "stdout",
     "output_type": "stream",
     "text": [
      "R2 score: 0.9999999999999107\n"
     ]
    },
    {
     "data": {
      "text/plain": [
       "<matplotlib.collections.PathCollection at 0x7fae810ed650>"
      ]
     },
     "execution_count": 178,
     "metadata": {},
     "output_type": "execute_result"
    },
    {
     "data": {
      "image/png": "[encoded data removed]",
      "text/plain": [
       "<Figure size 640x480 with 1 Axes>"
      ]
     },
     "metadata": {},
     "output_type": "display_data"
    }
   ],
   "source": [
    "def mean(x):\n",
    "    return(sum(x)/len(x))\n",
    "def least_squared(x , y):\n",
    "    q0 = 1\n",
    "    q1 = 1\n",
    "    a = 0.08\n",
    "    it = 1000\n",
    "    for i in range(it):\n",
    "        y_predicted = q0 + q1 * x\n",
    "        q1 = q1 + a*(1/len(x))*(sum(x*(y-y_predicted)))\n",
    "        q0 = q0 + a*(1/len(x))*(sum(y-y_predicted))\n",
    "    plt.plot(x,y_predicted)\n",
    "    sst = sum([i*i for i in (y-mean(y))])\n",
    "    ssr = sum([(y[i]-y_predicted[i])**2 for i in range(len(y))])\n",
    "    print(\"R2 score:\", 1-ssr/sst)\n",
    "x = np.array([1,2,3,4,5])\n",
    "y= np.array([5,7,9,11,13])\n",
    "least_squared(x ,y )\n",
    "plt.scatter(x,y,c='red')"
   ]
  },
  {
   "cell_type": "code",
   "execution_count": 205,
   "id": "7d6e87dc-a79b-4cae-bd79-b2917f820d57",
   "metadata": {},
   "outputs": [
    {
     "name": "stdout",
     "output_type": "stream",
     "text": [
      "[0, 1, 1, 1, 1, 0, 0, 1, 1, 1, 1, 0, 0, 0, 0, 1, 0, 0, 0, 0, 1, 1, 0, 1, 1, 0, 1, 1, 0, 0, 0, 1, 1, 1, 1, 1, 0, 0, 0, 0, 0, 0, 1, 0, 1, 0, 1, 0, 0, 0, 1, 0, 1, 1, 1, 0, 0, 1, 0, 1, 1, 1, 0, 1, 0, 0, 0, 0, 0, 1, 0, 1, 0, 1, 1, 1, 0, 0, 0, 1, 0, 1, 1, 1, 0, 1, 0, 1, 0, 1, 0, 1, 0, 1, 0, 1, 0, 1, 0, 1, 1, 1, 1, 1, 0, 0, 1, 1, 1, 1, 1, 1, 0, 0, 1, 1, 1, 1, 1, 1, 0, 1, 0, 1, 1, 1, 1, 1, 0, 0, 1, 0, 0, 1, 1, 0, 0, 1, 1, 0, 0, 1, 1, 1, 0, 1, 1, 1, 1, 1, 1, 0, 0, 1]\n",
      "95 154\n"
     ]
    }
   ],
   "source": [
    "df = pd.read_csv(\"/home/captaint/Downloads/ds/diabetes.csv\")\n",
    "x = np.array(df.iloc[:,0:8])\n",
    "y = df['Outcome']\n",
    "xtrain, xtest, ytrain, ytest = train_test_split(x, y, test_size=0.2, random_state=1234)\n",
    "def sigmoid(z):\n",
    "    return 1 / (1 + np.exp(-z))\n",
    "\n",
    "def gradient_descent(X, y):\n",
    "    n_samples, n_features = X.shape\n",
    "    thetam = np.zeros(n_features)\n",
    "    bias = 0\n",
    "    a = 0.001\n",
    "    iterations = 500\n",
    "    for i in range(iterations):\n",
    "        xtheta = np.dot(X, thetam) + bias\n",
    "        y_predicted = sigmoid(xtheta)\n",
    "\n",
    "        dxtheta = (1/n_samples) * np.dot(X.T, (y_predicted - y))\n",
    "        db = (1/n_samples) * np.sum(y_predicted - y)\n",
    "\n",
    "        thetam = thetam - a*dxtheta\n",
    "        bias = bias - a*db\n",
    "    return thetam,bias\n",
    "    \n",
    "def predict(X,y,thetam, bias):\n",
    "    linear_model = np.dot(X, thetam) + bias\n",
    "    y_predicted = sigmoid(linear_model)\n",
    "    y_predicted_cls = [1 if i > 0.5 else 0 for i in y_predicted]\n",
    "    print(y_predicted_cls)\n",
    "    count = 0\n",
    "    for i in range(len(y_predicted_cls)):\n",
    "        if(y_predicted_cls[i] == np.array(y)[i]):\n",
    "            count+=1\n",
    "    print(count, len(y))\n",
    "thetam,bias = gradient_descent(xtrain,ytrain)\n",
    "predict(xtest,ytest,thetam,bias)"
   ]
  },
  {
   "cell_type": "code",
   "execution_count": null,
   "id": "58f28fb7-861d-433d-b0e6-fc7ab133a333",
   "metadata": {},
   "outputs": [],
   "source": []
  }
 ],
 "metadata": {
  "kernelspec": {
   "display_name": "Python 3 (ipykernel)",
   "language": "python",
   "name": "python3"
  },
  "language_info": {
   "codemirror_mode": {
    "name": "ipython",
    "version": 3
   },
   "file_extension": ".py",
   "mimetype": "text/x-python",
   "name": "python",
   "nbconvert_exporter": "python",
   "pygments_lexer": "ipython3",
   "version": "3.11.6"
  }
 },
 "nbformat": 4,
 "nbformat_minor": 5
}
